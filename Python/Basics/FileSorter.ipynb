{
 "cells": [
  {
   "cell_type": "markdown",
   "id": "73763db9",
   "metadata": {},
   "source": [
    "# Automatic File Sorter"
   ]
  },
  {
   "cell_type": "code",
   "execution_count": 22,
   "id": "b888a38d",
   "metadata": {},
   "outputs": [
    {
     "name": "stdout",
     "output_type": "stream",
     "text": [
      "/Users/enricokoegler/Desktop/zzzz Kopie/PNG\n",
      "/Users/enricokoegler/Desktop/zzzz Kopie/jpg\n",
      "/Users/enricokoegler/Desktop/zzzz Kopie/jpeg\n"
     ]
    }
   ],
   "source": [
    "import os, shutil\n",
    "\n",
    "path = '/Users/enricokoegler/Desktop/'\n",
    "\n",
    "os.listdir(path)\n",
    "\n",
    "extensions = set()\n",
    "\n",
    "#find all extensions\n",
    "for file in os.listdir(path):\n",
    "    f = os.path.splitext(file)[1][1:]\n",
    "    if f:\n",
    "        extensions.add(f)\n",
    "        \n",
    "        \n",
    "for e in extensions:\n",
    "    print(path + e)\n",
    "    if not os.path.exists(path + e):\n",
    "        os.makedirs(path + e)\n",
    "\n",
    "for file in os.listdir(path):\n",
    "    f = os.path.splitext(file)[1][1:]\n",
    "    shutil.move(path + file, path + f + '/' + file)"
   ]
  },
  {
   "cell_type": "code",
   "execution_count": null,
   "id": "ac1ce84a",
   "metadata": {},
   "outputs": [],
   "source": []
  }
 ],
 "metadata": {
  "kernelspec": {
   "display_name": "Python 3 (ipykernel)",
   "language": "python",
   "name": "python3"
  },
  "language_info": {
   "codemirror_mode": {
    "name": "ipython",
    "version": 3
   },
   "file_extension": ".py",
   "mimetype": "text/x-python",
   "name": "python",
   "nbconvert_exporter": "python",
   "pygments_lexer": "ipython3",
   "version": "3.8.18"
  }
 },
 "nbformat": 4,
 "nbformat_minor": 5
}
