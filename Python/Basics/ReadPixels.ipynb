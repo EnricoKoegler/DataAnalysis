{
 "cells": [
  {
   "cell_type": "code",
   "execution_count": 4,
   "id": "20dcc57a",
   "metadata": {},
   "outputs": [
    {
     "name": "stdout",
     "output_type": "stream",
     "text": [
      "RGB-Werte des Pixels bei (2262, 5025): (108, 59, 63)\n"
     ]
    }
   ],
   "source": [
    "from PIL import Image\n",
    "\n",
    "# Bild laden\n",
    "image_path = '/Users/enricokoegler/Downloads/'  # Passe dies entsprechend deinem Bild an\n",
    "img = Image.open(image_path)\n",
    "\n",
    "# Koordinaten des Pixels\n",
    "x = 2262\n",
    "y = 5025\n",
    "\n",
    "# RGB-Werte auslesen\n",
    "pixel_value = img.getpixel((x, y))\n",
    "print(f'RGB-Werte des Pixels bei ({x}, {y}): {pixel_value}')\n"
   ]
  },
  {
   "cell_type": "code",
   "execution_count": null,
   "id": "6628043c",
   "metadata": {},
   "outputs": [],
   "source": []
  }
 ],
 "metadata": {
  "kernelspec": {
   "display_name": "Python 3 (ipykernel)",
   "language": "python",
   "name": "python3"
  },
  "language_info": {
   "codemirror_mode": {
    "name": "ipython",
    "version": 3
   },
   "file_extension": ".py",
   "mimetype": "text/x-python",
   "name": "python",
   "nbconvert_exporter": "python",
   "pygments_lexer": "ipython3",
   "version": "3.8.18"
  }
 },
 "nbformat": 4,
 "nbformat_minor": 5
}
