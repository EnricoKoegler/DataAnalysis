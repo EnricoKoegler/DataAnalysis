{
 "cells": [
  {
   "cell_type": "markdown",
   "id": "ae4ea735",
   "metadata": {},
   "source": [
    "# BMI Calculator"
   ]
  },
  {
   "cell_type": "code",
   "execution_count": 4,
   "id": "c1d68f55",
   "metadata": {},
   "outputs": [],
   "source": [
    "#BMI-Formel = Körpergewicht (in kg ) geteilt durch Körpergröße (in m ) zum Quadrat"
   ]
  },
  {
   "cell_type": "code",
   "execution_count": 19,
   "id": "efdd6f62",
   "metadata": {},
   "outputs": [
    {
     "name": "stdout",
     "output_type": "stream",
     "text": [
      "Gewicht in kg: 90\n",
      "Größe in cm: 200\n",
      "\n",
      "Your BMI is:  22.5\n",
      "You are normalweigth and have a minimal health risk\n"
     ]
    }
   ],
   "source": [
    "w = int(input('Gewicht in kg: '))\n",
    "h = int(input('Größe in cm: ')) / 100\n",
    "\n",
    "bmi = w / (h**2)\n",
    "\n",
    "print('\\nYour BMI is: ', bmi)\n",
    "s, r = \"weigth status\", \"risk\"\n",
    "\n",
    "if bmi > 0:\n",
    "    if bmi < 18.5:\n",
    "        s,r = \"underweigth\", \"minimal\"\n",
    "    elif bmi < 24.9:\n",
    "        s,r = \"normalweigth\", \"minimal\"\n",
    "    elif bmi < 29.9:\n",
    "        s,r = \"overweigth\", \"increased\"\n",
    "    elif bmi < 34.9:\n",
    "        s,r = \"obese\", \"high\"\n",
    "    else:\n",
    "        s,r = \"very obese\", \"very high\"\n",
    "        \n",
    "print('You are ' + s + ' and have a ' + r + ' health risk')\n",
    "    "
   ]
  },
  {
   "cell_type": "code",
   "execution_count": 9,
   "id": "197f8e8d",
   "metadata": {},
   "outputs": [
    {
     "data": {
      "text/plain": [
       "str"
      ]
     },
     "execution_count": 9,
     "metadata": {},
     "output_type": "execute_result"
    }
   ],
   "source": []
  },
  {
   "cell_type": "code",
   "execution_count": null,
   "id": "cf8a39e6",
   "metadata": {},
   "outputs": [],
   "source": []
  }
 ],
 "metadata": {
  "kernelspec": {
   "display_name": "Python 3 (ipykernel)",
   "language": "python",
   "name": "python3"
  },
  "language_info": {
   "codemirror_mode": {
    "name": "ipython",
    "version": 3
   },
   "file_extension": ".py",
   "mimetype": "text/x-python",
   "name": "python",
   "nbconvert_exporter": "python",
   "pygments_lexer": "ipython3",
   "version": "3.8.18"
  }
 },
 "nbformat": 4,
 "nbformat_minor": 5
}
