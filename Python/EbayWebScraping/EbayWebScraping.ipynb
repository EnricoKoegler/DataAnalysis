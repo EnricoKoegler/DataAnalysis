{
 "cells": [
  {
   "cell_type": "markdown",
   "id": "e1c957d6",
   "metadata": {},
   "source": [
    "# Ebay Website Scraping"
   ]
  },
  {
   "cell_type": "code",
   "execution_count": 1,
   "id": "546d23a7",
   "metadata": {},
   "outputs": [],
   "source": [
    "from bs4 import BeautifulSoup\n",
    "import pandas as pd\n",
    "import requests\n",
    "import time\n",
    "import smtplib\n",
    "import datetime"
   ]
  },
  {
   "cell_type": "code",
   "execution_count": 2,
   "id": "b009d8a8",
   "metadata": {},
   "outputs": [
    {
     "data": {
      "text/plain": [
       "<Response [200]>"
      ]
     },
     "execution_count": 2,
     "metadata": {},
     "output_type": "execute_result"
    }
   ],
   "source": [
    "# connect to website\n",
    "#url = 'https://www.amazon.de/Ravensburger-26601-Scotland-Yard-Strategiespiel/dp/B00C3SFFEI/ref=sr_1_4?crid=2JLELGVYCNCF3&keywords=brettspiel+scotland+yard&qid=1700136846&sprefix=%2Caps%2C175&sr=8-4'\n",
    "url = 'https://www.ebay.de/itm/285379014257?_trkparms=amclksrc%3DITM%26aid%3D777008%26algo%3DPERSONAL.TOPIC%26ao%3D1%26asc%3D20230811123857%26meid%3Dc2d9ba46e8e340e0aabc50846937345a%26pid%3D101770%26rk%3D1%26rkt%3D1%26itm%3D285379014257%26pmt%3D1%26noa%3D1%26pg%3D4375194%26algv%3DRecentlyViewedItemsV2&_trksid=p4375194.c101770.m146925&_trkparms=parentrq%3Ad815980918b0acf243b1f154ffffd48a%7Cpageci%3Adf18b929-847a-11ee-a495-8e4f6145ce69%7Ciid%3A1%7Cvlpname%3Avlp_homepage'\n",
    "page = requests.get(url) #200 is fine\n",
    "soup = BeautifulSoup(page.text, 'html')\n",
    "page"
   ]
  },
  {
   "cell_type": "code",
   "execution_count": 3,
   "id": "a468e699",
   "metadata": {},
   "outputs": [
    {
     "name": "stdout",
     "output_type": "stream",
     "text": [
      "62,90\n",
      "72W LED Deckenleuchte 65X43CM Lichtfarbe/Helligkeit einstellbar Für Wohnzimmer\n"
     ]
    }
   ],
   "source": [
    "title = soup.find('div', class_='vim x-item-title').text.strip()\n",
    "price = soup.find('div', class_='x-price-primary').text[3:].strip()\n",
    "print(price)\n",
    "print(title)"
   ]
  },
  {
   "cell_type": "code",
   "execution_count": 71,
   "id": "4f8241df",
   "metadata": {},
   "outputs": [
    {
     "data": {
      "text/html": [
       "<div>\n",
       "<style scoped>\n",
       "    .dataframe tbody tr th:only-of-type {\n",
       "        vertical-align: middle;\n",
       "    }\n",
       "\n",
       "    .dataframe tbody tr th {\n",
       "        vertical-align: top;\n",
       "    }\n",
       "\n",
       "    .dataframe thead th {\n",
       "        text-align: right;\n",
       "    }\n",
       "</style>\n",
       "<table border=\"1\" class=\"dataframe\">\n",
       "  <thead>\n",
       "    <tr style=\"text-align: right;\">\n",
       "      <th></th>\n",
       "      <th>Item</th>\n",
       "      <th>Price</th>\n",
       "      <th>Offers</th>\n",
       "    </tr>\n",
       "  </thead>\n",
       "  <tbody>\n",
       "  </tbody>\n",
       "</table>\n",
       "</div>"
      ],
      "text/plain": [
       "Empty DataFrame\n",
       "Columns: [Item, Price, Offers]\n",
       "Index: []"
      ]
     },
     "execution_count": 71,
     "metadata": {},
     "output_type": "execute_result"
    }
   ],
   "source": [
    "df = pd.DataFrame(columns=['Item', 'Price', 'Offers'])\n",
    "df"
   ]
  },
  {
   "cell_type": "code",
   "execution_count": 84,
   "id": "c2dd6b71",
   "metadata": {},
   "outputs": [
    {
     "data": {
      "text/html": [
       "<div>\n",
       "<style scoped>\n",
       "    .dataframe tbody tr th:only-of-type {\n",
       "        vertical-align: middle;\n",
       "    }\n",
       "\n",
       "    .dataframe tbody tr th {\n",
       "        vertical-align: top;\n",
       "    }\n",
       "\n",
       "    .dataframe thead th {\n",
       "        text-align: right;\n",
       "    }\n",
       "</style>\n",
       "<table border=\"1\" class=\"dataframe\">\n",
       "  <thead>\n",
       "    <tr style=\"text-align: right;\">\n",
       "      <th></th>\n",
       "      <th>Item</th>\n",
       "      <th>Price</th>\n",
       "      <th>Offers</th>\n",
       "    </tr>\n",
       "  </thead>\n",
       "  <tbody>\n",
       "    <tr>\n",
       "      <th>0</th>\n",
       "      <td>Shop on eBay</td>\n",
       "      <td>$20.00</td>\n",
       "      <td>None</td>\n",
       "    </tr>\n",
       "    <tr>\n",
       "      <th>1</th>\n",
       "      <td>Original DFB Trikot Nationalmannschaft Julian ...</td>\n",
       "      <td>EUR 28,50</td>\n",
       "      <td>2</td>\n",
       "    </tr>\n",
       "    <tr>\n",
       "      <th>2</th>\n",
       "      <td>DFB Trikot in Acryl 2011/12 WM EM Deutschland ...</td>\n",
       "      <td>EUR 3,50</td>\n",
       "      <td>0</td>\n",
       "    </tr>\n",
       "    <tr>\n",
       "      <th>3</th>\n",
       "      <td>Fußball TRIKOT 1996 DFB- TEAMSIGNIERT</td>\n",
       "      <td>EUR 2,75</td>\n",
       "      <td>2</td>\n",
       "    </tr>\n",
       "    <tr>\n",
       "      <th>4</th>\n",
       "      <td>Original Adidas Deutschland DFB WM 2022 TRIKOT...</td>\n",
       "      <td>EUR 21,00</td>\n",
       "      <td>None</td>\n",
       "    </tr>\n",
       "    <tr>\n",
       "      <th>...</th>\n",
       "      <td>...</td>\n",
       "      <td>...</td>\n",
       "      <td>...</td>\n",
       "    </tr>\n",
       "    <tr>\n",
       "      <th>64</th>\n",
       "      <td>DFB Deutschland Kai Havertz Spielertrikot Nati...</td>\n",
       "      <td>EUR 500,00</td>\n",
       "      <td>0</td>\n",
       "    </tr>\n",
       "    <tr>\n",
       "      <th>65</th>\n",
       "      <td>DFB Deutschland Trikot auswärts EM 2016 Adidas...</td>\n",
       "      <td>EUR 19,10</td>\n",
       "      <td>0</td>\n",
       "    </tr>\n",
       "    <tr>\n",
       "      <th>66</th>\n",
       "      <td>Adidas DFB Trikot Kinder 176</td>\n",
       "      <td>EUR 3,99</td>\n",
       "      <td>0</td>\n",
       "    </tr>\n",
       "    <tr>\n",
       "      <th>67</th>\n",
       "      <td>Trikot Deutsche Nationalmannschaft Schwarz L D...</td>\n",
       "      <td>EUR 49,00</td>\n",
       "      <td>None</td>\n",
       "    </tr>\n",
       "    <tr>\n",
       "      <th>68</th>\n",
       "      <td>Deutschland Trikot Wriß DFB Trikot EM 2016 Adi...</td>\n",
       "      <td>25,99</td>\n",
       "      <td>9</td>\n",
       "    </tr>\n",
       "  </tbody>\n",
       "</table>\n",
       "<p>68 rows × 3 columns</p>\n",
       "</div>"
      ],
      "text/plain": [
       "                                                 Item       Price Offers\n",
       "0                                        Shop on eBay      $20.00   None\n",
       "1   Original DFB Trikot Nationalmannschaft Julian ...   EUR 28,50      2\n",
       "2   DFB Trikot in Acryl 2011/12 WM EM Deutschland ...    EUR 3,50      0\n",
       "3               Fußball TRIKOT 1996 DFB- TEAMSIGNIERT    EUR 2,75      2\n",
       "4   Original Adidas Deutschland DFB WM 2022 TRIKOT...   EUR 21,00   None\n",
       "..                                                ...         ...    ...\n",
       "64  DFB Deutschland Kai Havertz Spielertrikot Nati...  EUR 500,00      0\n",
       "65  DFB Deutschland Trikot auswärts EM 2016 Adidas...   EUR 19,10      0\n",
       "66                       Adidas DFB Trikot Kinder 176    EUR 3,99      0\n",
       "67  Trikot Deutsche Nationalmannschaft Schwarz L D...   EUR 49,00   None\n",
       "68  Deutschland Trikot Wriß DFB Trikot EM 2016 Adi...       25,99      9\n",
       "\n",
       "[68 rows x 3 columns]"
      ]
     },
     "execution_count": 84,
     "metadata": {},
     "output_type": "execute_result"
    }
   ],
   "source": [
    "df.loc[len(df)] = [title, price, '9']\n",
    "df.drop_duplicates()"
   ]
  },
  {
   "cell_type": "code",
   "execution_count": 11,
   "id": "ca389dda",
   "metadata": {},
   "outputs": [],
   "source": [
    "today = datetime.date.today()\n",
    "df.to_excel('/Users/enricokoegler/Desktop/Data Analysis Bootcamp/Python/EbayWebScraping/EbayWebScraping' + str(today) + '.xlsx')"
   ]
  },
  {
   "cell_type": "code",
   "execution_count": 40,
   "id": "a212f3b5",
   "metadata": {},
   "outputs": [
    {
     "data": {
      "text/plain": [
       "<Response [200]>"
      ]
     },
     "execution_count": 40,
     "metadata": {},
     "output_type": "execute_result"
    }
   ],
   "source": [
    "url = 'https://www.ebay.de/sch/i.html?_from=R40&_nkw=dfb+trikot&_sacat=0&_pgn=1'\n",
    "url = 'https://www.ebay.de/sch/i.html?_from=R40&_nkw=dfb+trikot&_sacat=0&_pgn=2'\n",
    "page = requests.get(url) #200 is fine\n",
    "soup = BeautifulSoup(page.text, 'html')\n",
    "page"
   ]
  },
  {
   "cell_type": "code",
   "execution_count": 89,
   "id": "058d7002",
   "metadata": {},
   "outputs": [
    {
     "data": {
      "text/html": [
       "<div>\n",
       "<style scoped>\n",
       "    .dataframe tbody tr th:only-of-type {\n",
       "        vertical-align: middle;\n",
       "    }\n",
       "\n",
       "    .dataframe tbody tr th {\n",
       "        vertical-align: top;\n",
       "    }\n",
       "\n",
       "    .dataframe thead th {\n",
       "        text-align: right;\n",
       "    }\n",
       "</style>\n",
       "<table border=\"1\" class=\"dataframe\">\n",
       "  <thead>\n",
       "    <tr style=\"text-align: right;\">\n",
       "      <th></th>\n",
       "      <th>Item</th>\n",
       "      <th>Price</th>\n",
       "      <th>Offers</th>\n",
       "    </tr>\n",
       "  </thead>\n",
       "  <tbody>\n",
       "    <tr>\n",
       "      <th>0</th>\n",
       "      <td>Shop on eBay</td>\n",
       "      <td>0.00</td>\n",
       "      <td>None</td>\n",
       "    </tr>\n",
       "    <tr>\n",
       "      <th>1</th>\n",
       "      <td>Original DFB Trikot Nationalmannschaft Julian ...</td>\n",
       "      <td>28.50</td>\n",
       "      <td>2</td>\n",
       "    </tr>\n",
       "    <tr>\n",
       "      <th>2</th>\n",
       "      <td>DFB Trikot in Acryl 2011/12 WM EM Deutschland ...</td>\n",
       "      <td>3.50</td>\n",
       "      <td>0</td>\n",
       "    </tr>\n",
       "    <tr>\n",
       "      <th>3</th>\n",
       "      <td>Fußball TRIKOT 1996 DFB- TEAMSIGNIERT</td>\n",
       "      <td>2.75</td>\n",
       "      <td>2</td>\n",
       "    </tr>\n",
       "    <tr>\n",
       "      <th>4</th>\n",
       "      <td>Original Adidas Deutschland DFB WM 2022 TRIKOT...</td>\n",
       "      <td>21.00</td>\n",
       "      <td>None</td>\n",
       "    </tr>\n",
       "    <tr>\n",
       "      <th>...</th>\n",
       "      <td>...</td>\n",
       "      <td>...</td>\n",
       "      <td>...</td>\n",
       "    </tr>\n",
       "    <tr>\n",
       "      <th>64</th>\n",
       "      <td>DFB Deutschland Kai Havertz Spielertrikot Nati...</td>\n",
       "      <td>500.00</td>\n",
       "      <td>0</td>\n",
       "    </tr>\n",
       "    <tr>\n",
       "      <th>65</th>\n",
       "      <td>DFB Deutschland Trikot auswärts EM 2016 Adidas...</td>\n",
       "      <td>19.10</td>\n",
       "      <td>0</td>\n",
       "    </tr>\n",
       "    <tr>\n",
       "      <th>66</th>\n",
       "      <td>Adidas DFB Trikot Kinder 176</td>\n",
       "      <td>3.99</td>\n",
       "      <td>0</td>\n",
       "    </tr>\n",
       "    <tr>\n",
       "      <th>67</th>\n",
       "      <td>Trikot Deutsche Nationalmannschaft Schwarz L D...</td>\n",
       "      <td>49.00</td>\n",
       "      <td>None</td>\n",
       "    </tr>\n",
       "    <tr>\n",
       "      <th>68</th>\n",
       "      <td>Deutschland Trikot Wriß DFB Trikot EM 2016 Adi...</td>\n",
       "      <td>25.99</td>\n",
       "      <td>None</td>\n",
       "    </tr>\n",
       "  </tbody>\n",
       "</table>\n",
       "<p>68 rows × 3 columns</p>\n",
       "</div>"
      ],
      "text/plain": [
       "                                                 Item   Price Offers\n",
       "0                                        Shop on eBay    0.00   None\n",
       "1   Original DFB Trikot Nationalmannschaft Julian ...   28.50      2\n",
       "2   DFB Trikot in Acryl 2011/12 WM EM Deutschland ...    3.50      0\n",
       "3               Fußball TRIKOT 1996 DFB- TEAMSIGNIERT    2.75      2\n",
       "4   Original Adidas Deutschland DFB WM 2022 TRIKOT...   21.00   None\n",
       "..                                                ...     ...    ...\n",
       "64  DFB Deutschland Kai Havertz Spielertrikot Nati...  500.00      0\n",
       "65  DFB Deutschland Trikot auswärts EM 2016 Adidas...   19.10      0\n",
       "66                       Adidas DFB Trikot Kinder 176    3.99      0\n",
       "67  Trikot Deutsche Nationalmannschaft Schwarz L D...   49.00   None\n",
       "68  Deutschland Trikot Wriß DFB Trikot EM 2016 Adi...   25.99   None\n",
       "\n",
       "[68 rows x 3 columns]"
      ]
     },
     "execution_count": 89,
     "metadata": {},
     "output_type": "execute_result"
    }
   ],
   "source": [
    "df = pd.DataFrame(columns=['Item', 'Price', 'Offers'])\n",
    "\n",
    "items = soup.find_all('div', class_='s-item__wrapper clearfix')\n",
    "for i in items:\n",
    "    title = i.find('div', class_='s-item__title').text.strip().replace('Neues Angebot', '')\n",
    "    price = float(i.find('span', class_='s-item__price').text.strip()[3:].replace(',', '.'))\n",
    "    \n",
    "    bidcount = i.find('span', class_='s-item__bids s-item__bidCount')\n",
    "    if bidcount:\n",
    "        bidcount = bidcount.text.replace('Gebote', '').replace('Gebot', '').replace('·', '').strip()\n",
    "    df.loc[len(df)] = [title, price, bidcount]\n",
    "\n",
    "df.drop_duplicates(inplace=True)\n",
    "today = datetime.date.today()\n",
    "df.to_excel('/Users/enricokoegler/Desktop/Data Analysis Bootcamp/Python/EbayWebScraping/EbayWebScraping' + str(today) + '.xlsx')\n",
    "df"
   ]
  },
  {
   "cell_type": "code",
   "execution_count": null,
   "id": "735adb38",
   "metadata": {},
   "outputs": [],
   "source": []
  }
 ],
 "metadata": {
  "kernelspec": {
   "display_name": "Python 3 (ipykernel)",
   "language": "python",
   "name": "python3"
  },
  "language_info": {
   "codemirror_mode": {
    "name": "ipython",
    "version": 3
   },
   "file_extension": ".py",
   "mimetype": "text/x-python",
   "name": "python",
   "nbconvert_exporter": "python",
   "pygments_lexer": "ipython3",
   "version": "3.8.18"
  }
 },
 "nbformat": 4,
 "nbformat_minor": 5
}
